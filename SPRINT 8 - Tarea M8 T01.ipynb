{
 "cells": [
  {
   "cell_type": "markdown",
   "id": "751e59c9",
   "metadata": {},
   "source": [
    "# <span style=color:blue><b>SPRINT 8 - Tarea M8 T01</b></span>  \n",
    "\n",
    "## Algoritmos de aprendizaje NO SUPERVISADO: Agrupación\n"
   ]
  },
  {
   "cell_type": "markdown",
   "id": "466bed01",
   "metadata": {},
   "source": [
    "### <span style=color:red><b>Ejercicios</b></span>  \n",
    "1. <span style=color:blue>Descarga el dataset adjunto, de registros de publicaciones en Facebook sobre Tailandia, y clasifica los diferentes registros utilizando el algoritmo de K-means.</span>  \n",
    "2. <span style=color:blue>Clasifica los distintos registros utilizando el algoritmo de clustering jerárquico.</span>  \n",
    "3. <span style=color:blue>Calcula el rendimiento del clustering mediante un parámetro como puede ser silueta.</span>"
   ]
  },
  {
   "cell_type": "markdown",
   "id": "b17f8b25",
   "metadata": {},
   "source": [
    "**IMPORT LIBRARIES:**"
   ]
  },
  {
   "cell_type": "code",
   "execution_count": 1,
   "id": "c9048420",
   "metadata": {},
   "outputs": [],
   "source": [
    "import numpy as np\n",
    "import matplotlib.pyplot as plt\n",
    "import pandas as pd\n",
    "import seaborn as sns\n",
    "from scipy import stats\n",
    "\n",
    "from sklearn import neighbors, datasets, preprocessing\n",
    "from sklearn.model_selection import train_test_split\n",
    "from sklearn.metrics import accuracy_score, silhouette_score, adjusted_rand_score\n",
    "\n",
    "from sklearn.cluster import KMeans, AgglomerativeClustering\n",
    "from kneed import KneeLocator\n",
    "from sklearn.decomposition import PCA\n",
    "from sklearn.pipeline import Pipeline\n",
    "from sklearn.preprocessing import LabelEncoder, MinMaxScaler, StandardScaler, RobustScaler\n",
    "import scipy.cluster.hierarchy as shc"
   ]
  },
  {
   "cell_type": "markdown",
   "id": "7938d623",
   "metadata": {},
   "source": [
    "**1. LOADING DATA:**"
   ]
  },
  {
   "cell_type": "markdown",
   "id": "cb60d3c8",
   "metadata": {},
   "source": [
    "El siguiente dataset, contiene registros de publicaciones en Facebook sobre Tailandia."
   ]
  },
  {
   "cell_type": "code",
   "execution_count": 2,
   "id": "1ccb602a",
   "metadata": {},
   "outputs": [],
   "source": [
    "# Open the choosen file\n",
    "BasePath = \"C:/Users/Pepo/Desktop/Data Science/Barcelona Activa\"\n",
    "Archivo = BasePath + \"/Sprint 8. Algoritmos de aprendizaje NO supervisado Agrupación\"\n",
    "df = pd.read_csv(Archivo + '/Publicacions Facebook Thailandia.csv')"
   ]
  },
  {
   "cell_type": "markdown",
   "id": "e935f9b4",
   "metadata": {},
   "source": [
    "**2. READING DATA:**"
   ]
  },
  {
   "cell_type": "code",
   "execution_count": 3,
   "id": "6ed22f8f",
   "metadata": {},
   "outputs": [
    {
     "name": "stdout",
     "output_type": "stream",
     "text": [
      "- El dataset contiene (7050, 16) filas y columnas respectivamente.\n",
      "- ¿Existen datos nulos?: True\n",
      "- ¿Existen datos faltantes/ erroneos?: True\n"
     ]
    }
   ],
   "source": [
    "print ('- El dataset contiene', df.shape, 'filas y columnas respectivamente.')\n",
    "print ('- ¿Existen datos nulos?:', df.isnull().values.any())\n",
    "print ('- ¿Existen datos faltantes/ erroneos?:', df.isnull().values.any())"
   ]
  },
  {
   "cell_type": "code",
   "execution_count": 4,
   "id": "38eaacf2",
   "metadata": {},
   "outputs": [
    {
     "name": "stdout",
     "output_type": "stream",
     "text": [
      "<class 'pandas.core.frame.DataFrame'>\n",
      "RangeIndex: 7050 entries, 0 to 7049\n",
      "Data columns (total 16 columns):\n",
      " #   Column            Non-Null Count  Dtype  \n",
      "---  ------            --------------  -----  \n",
      " 0   status_id         7050 non-null   object \n",
      " 1   status_type       7050 non-null   object \n",
      " 2   status_published  7050 non-null   object \n",
      " 3   num_reactions     7050 non-null   int64  \n",
      " 4   num_comments      7050 non-null   int64  \n",
      " 5   num_shares        7050 non-null   int64  \n",
      " 6   num_likes         7050 non-null   int64  \n",
      " 7   num_loves         7050 non-null   int64  \n",
      " 8   num_wows          7050 non-null   int64  \n",
      " 9   num_hahas         7050 non-null   int64  \n",
      " 10  num_sads          7050 non-null   int64  \n",
      " 11  num_angrys        7050 non-null   int64  \n",
      " 12  Column1           0 non-null      float64\n",
      " 13  Column2           0 non-null      float64\n",
      " 14  Column3           0 non-null      float64\n",
      " 15  Column4           0 non-null      float64\n",
      "dtypes: float64(4), int64(9), object(3)\n",
      "memory usage: 881.4+ KB\n"
     ]
    }
   ],
   "source": [
    "df.info()"
   ]
  },
  {
   "cell_type": "code",
   "execution_count": 5,
   "id": "8eeba048",
   "metadata": {},
   "outputs": [
    {
     "data": {
      "text/html": [
       "<div>\n",
       "<style scoped>\n",
       "    .dataframe tbody tr th:only-of-type {\n",
       "        vertical-align: middle;\n",
       "    }\n",
       "\n",
       "    .dataframe tbody tr th {\n",
       "        vertical-align: top;\n",
       "    }\n",
       "\n",
       "    .dataframe thead th {\n",
       "        text-align: right;\n",
       "    }\n",
       "</style>\n",
       "<table border=\"1\" class=\"dataframe\">\n",
       "  <thead>\n",
       "    <tr style=\"text-align: right;\">\n",
       "      <th></th>\n",
       "      <th>status_id</th>\n",
       "      <th>status_type</th>\n",
       "      <th>status_published</th>\n",
       "      <th>num_reactions</th>\n",
       "      <th>num_comments</th>\n",
       "      <th>num_shares</th>\n",
       "      <th>num_likes</th>\n",
       "      <th>num_loves</th>\n",
       "      <th>num_wows</th>\n",
       "      <th>num_hahas</th>\n",
       "      <th>num_sads</th>\n",
       "      <th>num_angrys</th>\n",
       "      <th>Column1</th>\n",
       "      <th>Column2</th>\n",
       "      <th>Column3</th>\n",
       "      <th>Column4</th>\n",
       "    </tr>\n",
       "  </thead>\n",
       "  <tbody>\n",
       "    <tr>\n",
       "      <th>0</th>\n",
       "      <td>246675545449582_1649696485147474</td>\n",
       "      <td>video</td>\n",
       "      <td>4/22/2018 6:00</td>\n",
       "      <td>529</td>\n",
       "      <td>512</td>\n",
       "      <td>262</td>\n",
       "      <td>432</td>\n",
       "      <td>92</td>\n",
       "      <td>3</td>\n",
       "      <td>1</td>\n",
       "      <td>1</td>\n",
       "      <td>0</td>\n",
       "      <td>NaN</td>\n",
       "      <td>NaN</td>\n",
       "      <td>NaN</td>\n",
       "      <td>NaN</td>\n",
       "    </tr>\n",
       "    <tr>\n",
       "      <th>1</th>\n",
       "      <td>246675545449582_1649426988507757</td>\n",
       "      <td>photo</td>\n",
       "      <td>4/21/2018 22:45</td>\n",
       "      <td>150</td>\n",
       "      <td>0</td>\n",
       "      <td>0</td>\n",
       "      <td>150</td>\n",
       "      <td>0</td>\n",
       "      <td>0</td>\n",
       "      <td>0</td>\n",
       "      <td>0</td>\n",
       "      <td>0</td>\n",
       "      <td>NaN</td>\n",
       "      <td>NaN</td>\n",
       "      <td>NaN</td>\n",
       "      <td>NaN</td>\n",
       "    </tr>\n",
       "    <tr>\n",
       "      <th>2</th>\n",
       "      <td>246675545449582_1648730588577397</td>\n",
       "      <td>video</td>\n",
       "      <td>4/21/2018 6:17</td>\n",
       "      <td>227</td>\n",
       "      <td>236</td>\n",
       "      <td>57</td>\n",
       "      <td>204</td>\n",
       "      <td>21</td>\n",
       "      <td>1</td>\n",
       "      <td>1</td>\n",
       "      <td>0</td>\n",
       "      <td>0</td>\n",
       "      <td>NaN</td>\n",
       "      <td>NaN</td>\n",
       "      <td>NaN</td>\n",
       "      <td>NaN</td>\n",
       "    </tr>\n",
       "    <tr>\n",
       "      <th>3</th>\n",
       "      <td>246675545449582_1648576705259452</td>\n",
       "      <td>photo</td>\n",
       "      <td>4/21/2018 2:29</td>\n",
       "      <td>111</td>\n",
       "      <td>0</td>\n",
       "      <td>0</td>\n",
       "      <td>111</td>\n",
       "      <td>0</td>\n",
       "      <td>0</td>\n",
       "      <td>0</td>\n",
       "      <td>0</td>\n",
       "      <td>0</td>\n",
       "      <td>NaN</td>\n",
       "      <td>NaN</td>\n",
       "      <td>NaN</td>\n",
       "      <td>NaN</td>\n",
       "    </tr>\n",
       "    <tr>\n",
       "      <th>4</th>\n",
       "      <td>246675545449582_1645700502213739</td>\n",
       "      <td>photo</td>\n",
       "      <td>4/18/2018 3:22</td>\n",
       "      <td>213</td>\n",
       "      <td>0</td>\n",
       "      <td>0</td>\n",
       "      <td>204</td>\n",
       "      <td>9</td>\n",
       "      <td>0</td>\n",
       "      <td>0</td>\n",
       "      <td>0</td>\n",
       "      <td>0</td>\n",
       "      <td>NaN</td>\n",
       "      <td>NaN</td>\n",
       "      <td>NaN</td>\n",
       "      <td>NaN</td>\n",
       "    </tr>\n",
       "  </tbody>\n",
       "</table>\n",
       "</div>"
      ],
      "text/plain": [
       "                          status_id status_type status_published  \\\n",
       "0  246675545449582_1649696485147474       video   4/22/2018 6:00   \n",
       "1  246675545449582_1649426988507757       photo  4/21/2018 22:45   \n",
       "2  246675545449582_1648730588577397       video   4/21/2018 6:17   \n",
       "3  246675545449582_1648576705259452       photo   4/21/2018 2:29   \n",
       "4  246675545449582_1645700502213739       photo   4/18/2018 3:22   \n",
       "\n",
       "   num_reactions  num_comments  num_shares  num_likes  num_loves  num_wows  \\\n",
       "0            529           512         262        432         92         3   \n",
       "1            150             0           0        150          0         0   \n",
       "2            227           236          57        204         21         1   \n",
       "3            111             0           0        111          0         0   \n",
       "4            213             0           0        204          9         0   \n",
       "\n",
       "   num_hahas  num_sads  num_angrys  Column1  Column2  Column3  Column4  \n",
       "0          1         1           0      NaN      NaN      NaN      NaN  \n",
       "1          0         0           0      NaN      NaN      NaN      NaN  \n",
       "2          1         0           0      NaN      NaN      NaN      NaN  \n",
       "3          0         0           0      NaN      NaN      NaN      NaN  \n",
       "4          0         0           0      NaN      NaN      NaN      NaN  "
      ]
     },
     "execution_count": 5,
     "metadata": {},
     "output_type": "execute_result"
    }
   ],
   "source": [
    "df.head()"
   ]
  },
  {
   "cell_type": "code",
   "execution_count": 6,
   "id": "9c248d5e",
   "metadata": {},
   "outputs": [
    {
     "data": {
      "text/plain": [
       "status_id           6997\n",
       "status_type            4\n",
       "status_published    6913\n",
       "num_reactions       1067\n",
       "num_comments         993\n",
       "num_shares           501\n",
       "num_likes           1044\n",
       "num_loves            229\n",
       "num_wows              65\n",
       "num_hahas             42\n",
       "num_sads              24\n",
       "num_angrys            14\n",
       "Column1                0\n",
       "Column2                0\n",
       "Column3                0\n",
       "Column4                0\n",
       "dtype: int64"
      ]
     },
     "execution_count": 6,
     "metadata": {},
     "output_type": "execute_result"
    }
   ],
   "source": [
    "df.nunique()"
   ]
  },
  {
   "cell_type": "code",
   "execution_count": 7,
   "id": "1ffb18b9",
   "metadata": {},
   "outputs": [
    {
     "data": {
      "text/plain": [
       "array(['video', 'photo', 'link', 'status'], dtype=object)"
      ]
     },
     "execution_count": 7,
     "metadata": {},
     "output_type": "execute_result"
    }
   ],
   "source": [
    "df.status_type.unique()"
   ]
  },
  {
   "cell_type": "markdown",
   "id": "acaf200d",
   "metadata": {},
   "source": [
    "**- Descripción Dataset:**  \n",
    "  \n",
    "\n",
    " * El dataset corresponde a registros de publicaciones en Facebook sobre Tailandia, donde se muestra la fecha y hora de la publicación, con diferentes tipos de categorias ['video', 'photo', 'link', 'status'], y las interacciones que generó dicha publicación (total reactions, comments, shares, likes, loves, wows, hahas, sads, angrys).\n",
    " * El dataset contiene 7050 entradas con 16 columnas.\n",
    " * Se identificó valores nulos/ faltantes en las últimas 4 columnas [:-4], mismas que deben ser eliminadas ya que no contienen ningún tipo de información. \n",
    " * Además, dentro del paso de preparar/ limpiar el dataset, es importante trabajar las primeras 3 columnas:\n",
    "     * status_id: existen 53 valores duplicados, es importante revisarlos y ver si se requiere eliminarlos.\n",
    "     * status_type: realizar \"categorical variable encoding\"\n",
    "     * status_published: la fecha y hora se encuentra como dtype=object, se debe transformar a un formato de fecha/hora y posterior segmentar cada valor (ej: día, mes, año, hora), para poder utilizar estos valores en el algoritmo."
   ]
  },
  {
   "cell_type": "code",
   "execution_count": 8,
   "id": "3bc7102b",
   "metadata": {},
   "outputs": [],
   "source": [
    "df2 = df.drop(df.iloc[:, 12:16],axis = 1)"
   ]
  },
  {
   "cell_type": "markdown",
   "id": "34be4c29",
   "metadata": {},
   "source": [
    "**2.1. PREPARE DATA**"
   ]
  },
  {
   "cell_type": "markdown",
   "id": "7b3a1a5b",
   "metadata": {},
   "source": [
    "**DUPLICATED DATA:**"
   ]
  },
  {
   "cell_type": "markdown",
   "id": "a84d9801",
   "metadata": {},
   "source": [
    "* Creo un df con los valores duplicados de la columna ***status_id*** ([real + repetido] >>> keep= False), para poder comparar los registros."
   ]
  },
  {
   "cell_type": "code",
   "execution_count": 9,
   "id": "ff78d59c",
   "metadata": {},
   "outputs": [],
   "source": [
    "duplicated_data = df2[df2['status_id'].duplicated(keep=False) == True]"
   ]
  },
  {
   "cell_type": "code",
   "execution_count": 10,
   "id": "18568920",
   "metadata": {},
   "outputs": [
    {
     "data": {
      "text/html": [
       "<div>\n",
       "<style scoped>\n",
       "    .dataframe tbody tr th:only-of-type {\n",
       "        vertical-align: middle;\n",
       "    }\n",
       "\n",
       "    .dataframe tbody tr th {\n",
       "        vertical-align: top;\n",
       "    }\n",
       "\n",
       "    .dataframe thead th {\n",
       "        text-align: right;\n",
       "    }\n",
       "</style>\n",
       "<table border=\"1\" class=\"dataframe\">\n",
       "  <thead>\n",
       "    <tr style=\"text-align: right;\">\n",
       "      <th></th>\n",
       "      <th>status_id</th>\n",
       "      <th>status_type</th>\n",
       "      <th>status_published</th>\n",
       "      <th>num_reactions</th>\n",
       "      <th>num_comments</th>\n",
       "      <th>num_shares</th>\n",
       "      <th>num_likes</th>\n",
       "      <th>num_loves</th>\n",
       "      <th>num_wows</th>\n",
       "      <th>num_hahas</th>\n",
       "      <th>num_sads</th>\n",
       "      <th>num_angrys</th>\n",
       "    </tr>\n",
       "  </thead>\n",
       "  <tbody>\n",
       "    <tr>\n",
       "      <th>1488</th>\n",
       "      <td>246675545449582_326883450762124</td>\n",
       "      <td>photo</td>\n",
       "      <td>2/14/2014 3:07</td>\n",
       "      <td>211</td>\n",
       "      <td>2</td>\n",
       "      <td>0</td>\n",
       "      <td>211</td>\n",
       "      <td>0</td>\n",
       "      <td>0</td>\n",
       "      <td>0</td>\n",
       "      <td>0</td>\n",
       "      <td>0</td>\n",
       "    </tr>\n",
       "    <tr>\n",
       "      <th>1698</th>\n",
       "      <td>246675545449582_326883450762124</td>\n",
       "      <td>photo</td>\n",
       "      <td>10/11/2013 8:23</td>\n",
       "      <td>211</td>\n",
       "      <td>2</td>\n",
       "      <td>0</td>\n",
       "      <td>211</td>\n",
       "      <td>0</td>\n",
       "      <td>0</td>\n",
       "      <td>0</td>\n",
       "      <td>0</td>\n",
       "      <td>0</td>\n",
       "    </tr>\n",
       "    <tr>\n",
       "      <th>1408</th>\n",
       "      <td>246675545449582_429583263825475</td>\n",
       "      <td>photo</td>\n",
       "      <td>4/22/2014 5:43</td>\n",
       "      <td>537</td>\n",
       "      <td>16</td>\n",
       "      <td>1</td>\n",
       "      <td>537</td>\n",
       "      <td>0</td>\n",
       "      <td>0</td>\n",
       "      <td>0</td>\n",
       "      <td>0</td>\n",
       "      <td>0</td>\n",
       "    </tr>\n",
       "    <tr>\n",
       "      <th>1729</th>\n",
       "      <td>246675545449582_429583263825475</td>\n",
       "      <td>photo</td>\n",
       "      <td>9/11/2013 0:12</td>\n",
       "      <td>537</td>\n",
       "      <td>16</td>\n",
       "      <td>1</td>\n",
       "      <td>537</td>\n",
       "      <td>0</td>\n",
       "      <td>0</td>\n",
       "      <td>0</td>\n",
       "      <td>0</td>\n",
       "      <td>0</td>\n",
       "    </tr>\n",
       "    <tr>\n",
       "      <th>6172</th>\n",
       "      <td>819700534875473_1000607730118085</td>\n",
       "      <td>photo</td>\n",
       "      <td>6/7/2018 7:01</td>\n",
       "      <td>1704</td>\n",
       "      <td>21</td>\n",
       "      <td>3</td>\n",
       "      <td>1685</td>\n",
       "      <td>15</td>\n",
       "      <td>2</td>\n",
       "      <td>2</td>\n",
       "      <td>0</td>\n",
       "      <td>0</td>\n",
       "    </tr>\n",
       "    <tr>\n",
       "      <th>6223</th>\n",
       "      <td>819700534875473_1000607730118085</td>\n",
       "      <td>photo</td>\n",
       "      <td>6/7/2018 7:01</td>\n",
       "      <td>1704</td>\n",
       "      <td>21</td>\n",
       "      <td>3</td>\n",
       "      <td>1685</td>\n",
       "      <td>15</td>\n",
       "      <td>2</td>\n",
       "      <td>2</td>\n",
       "      <td>0</td>\n",
       "      <td>0</td>\n",
       "    </tr>\n",
       "    <tr>\n",
       "      <th>6171</th>\n",
       "      <td>819700534875473_1001982519980606</td>\n",
       "      <td>photo</td>\n",
       "      <td>6/9/2018 22:53</td>\n",
       "      <td>255</td>\n",
       "      <td>7</td>\n",
       "      <td>4</td>\n",
       "      <td>249</td>\n",
       "      <td>6</td>\n",
       "      <td>0</td>\n",
       "      <td>0</td>\n",
       "      <td>0</td>\n",
       "      <td>0</td>\n",
       "    </tr>\n",
       "    <tr>\n",
       "      <th>6222</th>\n",
       "      <td>819700534875473_1001982519980606</td>\n",
       "      <td>photo</td>\n",
       "      <td>6/9/2018 22:53</td>\n",
       "      <td>255</td>\n",
       "      <td>7</td>\n",
       "      <td>4</td>\n",
       "      <td>249</td>\n",
       "      <td>6</td>\n",
       "      <td>0</td>\n",
       "      <td>0</td>\n",
       "      <td>0</td>\n",
       "      <td>0</td>\n",
       "    </tr>\n",
       "  </tbody>\n",
       "</table>\n",
       "</div>"
      ],
      "text/plain": [
       "                             status_id status_type status_published  \\\n",
       "1488   246675545449582_326883450762124       photo   2/14/2014 3:07   \n",
       "1698   246675545449582_326883450762124       photo  10/11/2013 8:23   \n",
       "1408   246675545449582_429583263825475       photo   4/22/2014 5:43   \n",
       "1729   246675545449582_429583263825475       photo   9/11/2013 0:12   \n",
       "6172  819700534875473_1000607730118085       photo    6/7/2018 7:01   \n",
       "6223  819700534875473_1000607730118085       photo    6/7/2018 7:01   \n",
       "6171  819700534875473_1001982519980606       photo   6/9/2018 22:53   \n",
       "6222  819700534875473_1001982519980606       photo   6/9/2018 22:53   \n",
       "\n",
       "      num_reactions  num_comments  num_shares  num_likes  num_loves  num_wows  \\\n",
       "1488            211             2           0        211          0         0   \n",
       "1698            211             2           0        211          0         0   \n",
       "1408            537            16           1        537          0         0   \n",
       "1729            537            16           1        537          0         0   \n",
       "6172           1704            21           3       1685         15         2   \n",
       "6223           1704            21           3       1685         15         2   \n",
       "6171            255             7           4        249          6         0   \n",
       "6222            255             7           4        249          6         0   \n",
       "\n",
       "      num_hahas  num_sads  num_angrys  \n",
       "1488          0         0           0  \n",
       "1698          0         0           0  \n",
       "1408          0         0           0  \n",
       "1729          0         0           0  \n",
       "6172          2         0           0  \n",
       "6223          2         0           0  \n",
       "6171          0         0           0  \n",
       "6222          0         0           0  "
      ]
     },
     "execution_count": 10,
     "metadata": {},
     "output_type": "execute_result"
    }
   ],
   "source": [
    "duplicated_data.sort_values(by=[\"status_id\"]).head(8)"
   ]
  },
  {
   "cell_type": "code",
   "execution_count": 11,
   "id": "6974313b",
   "metadata": {},
   "outputs": [
    {
     "data": {
      "text/html": [
       "<div>\n",
       "<style scoped>\n",
       "    .dataframe tbody tr th:only-of-type {\n",
       "        vertical-align: middle;\n",
       "    }\n",
       "\n",
       "    .dataframe tbody tr th {\n",
       "        vertical-align: top;\n",
       "    }\n",
       "\n",
       "    .dataframe thead th {\n",
       "        text-align: right;\n",
       "    }\n",
       "</style>\n",
       "<table border=\"1\" class=\"dataframe\">\n",
       "  <thead>\n",
       "    <tr style=\"text-align: right;\">\n",
       "      <th></th>\n",
       "      <th>status_id</th>\n",
       "      <th>status_type</th>\n",
       "      <th>status_published</th>\n",
       "      <th>num_reactions</th>\n",
       "      <th>num_comments</th>\n",
       "      <th>num_shares</th>\n",
       "      <th>num_likes</th>\n",
       "      <th>num_loves</th>\n",
       "      <th>num_wows</th>\n",
       "      <th>num_hahas</th>\n",
       "      <th>num_sads</th>\n",
       "      <th>num_angrys</th>\n",
       "    </tr>\n",
       "  </thead>\n",
       "  <tbody>\n",
       "    <tr>\n",
       "      <th>6227</th>\n",
       "      <td>819700534875473_995933077252217</td>\n",
       "      <td>photo</td>\n",
       "      <td>5/30/2018 6:33</td>\n",
       "      <td>357</td>\n",
       "      <td>18</td>\n",
       "      <td>9</td>\n",
       "      <td>352</td>\n",
       "      <td>3</td>\n",
       "      <td>1</td>\n",
       "      <td>1</td>\n",
       "      <td>0</td>\n",
       "      <td>0</td>\n",
       "    </tr>\n",
       "    <tr>\n",
       "      <th>6176</th>\n",
       "      <td>819700534875473_995933077252217</td>\n",
       "      <td>photo</td>\n",
       "      <td>5/30/2018 6:33</td>\n",
       "      <td>357</td>\n",
       "      <td>18</td>\n",
       "      <td>9</td>\n",
       "      <td>352</td>\n",
       "      <td>3</td>\n",
       "      <td>1</td>\n",
       "      <td>1</td>\n",
       "      <td>0</td>\n",
       "      <td>0</td>\n",
       "    </tr>\n",
       "    <tr>\n",
       "      <th>6226</th>\n",
       "      <td>819700534875473_997075427137982</td>\n",
       "      <td>status</td>\n",
       "      <td>6/1/2018 0:35</td>\n",
       "      <td>111</td>\n",
       "      <td>2</td>\n",
       "      <td>1</td>\n",
       "      <td>110</td>\n",
       "      <td>1</td>\n",
       "      <td>0</td>\n",
       "      <td>0</td>\n",
       "      <td>0</td>\n",
       "      <td>0</td>\n",
       "    </tr>\n",
       "    <tr>\n",
       "      <th>6175</th>\n",
       "      <td>819700534875473_997075427137982</td>\n",
       "      <td>status</td>\n",
       "      <td>6/1/2018 0:35</td>\n",
       "      <td>111</td>\n",
       "      <td>2</td>\n",
       "      <td>1</td>\n",
       "      <td>110</td>\n",
       "      <td>1</td>\n",
       "      <td>0</td>\n",
       "      <td>0</td>\n",
       "      <td>0</td>\n",
       "      <td>0</td>\n",
       "    </tr>\n",
       "    <tr>\n",
       "      <th>6225</th>\n",
       "      <td>819700534875473_998824716963053</td>\n",
       "      <td>photo</td>\n",
       "      <td>6/4/2018 6:57</td>\n",
       "      <td>336</td>\n",
       "      <td>42</td>\n",
       "      <td>2</td>\n",
       "      <td>285</td>\n",
       "      <td>5</td>\n",
       "      <td>0</td>\n",
       "      <td>0</td>\n",
       "      <td>46</td>\n",
       "      <td>0</td>\n",
       "    </tr>\n",
       "    <tr>\n",
       "      <th>6174</th>\n",
       "      <td>819700534875473_998824716963053</td>\n",
       "      <td>photo</td>\n",
       "      <td>6/4/2018 6:57</td>\n",
       "      <td>336</td>\n",
       "      <td>42</td>\n",
       "      <td>2</td>\n",
       "      <td>285</td>\n",
       "      <td>5</td>\n",
       "      <td>0</td>\n",
       "      <td>0</td>\n",
       "      <td>46</td>\n",
       "      <td>0</td>\n",
       "    </tr>\n",
       "    <tr>\n",
       "      <th>6173</th>\n",
       "      <td>819700534875473_999880033524188</td>\n",
       "      <td>status</td>\n",
       "      <td>6/6/2018 2:20</td>\n",
       "      <td>205</td>\n",
       "      <td>39</td>\n",
       "      <td>4</td>\n",
       "      <td>197</td>\n",
       "      <td>4</td>\n",
       "      <td>4</td>\n",
       "      <td>0</td>\n",
       "      <td>0</td>\n",
       "      <td>0</td>\n",
       "    </tr>\n",
       "    <tr>\n",
       "      <th>6224</th>\n",
       "      <td>819700534875473_999880033524188</td>\n",
       "      <td>status</td>\n",
       "      <td>6/6/2018 2:20</td>\n",
       "      <td>205</td>\n",
       "      <td>39</td>\n",
       "      <td>4</td>\n",
       "      <td>197</td>\n",
       "      <td>4</td>\n",
       "      <td>4</td>\n",
       "      <td>0</td>\n",
       "      <td>0</td>\n",
       "      <td>0</td>\n",
       "    </tr>\n",
       "  </tbody>\n",
       "</table>\n",
       "</div>"
      ],
      "text/plain": [
       "                            status_id status_type status_published  \\\n",
       "6227  819700534875473_995933077252217       photo   5/30/2018 6:33   \n",
       "6176  819700534875473_995933077252217       photo   5/30/2018 6:33   \n",
       "6226  819700534875473_997075427137982      status    6/1/2018 0:35   \n",
       "6175  819700534875473_997075427137982      status    6/1/2018 0:35   \n",
       "6225  819700534875473_998824716963053       photo    6/4/2018 6:57   \n",
       "6174  819700534875473_998824716963053       photo    6/4/2018 6:57   \n",
       "6173  819700534875473_999880033524188      status    6/6/2018 2:20   \n",
       "6224  819700534875473_999880033524188      status    6/6/2018 2:20   \n",
       "\n",
       "      num_reactions  num_comments  num_shares  num_likes  num_loves  num_wows  \\\n",
       "6227            357            18           9        352          3         1   \n",
       "6176            357            18           9        352          3         1   \n",
       "6226            111             2           1        110          1         0   \n",
       "6175            111             2           1        110          1         0   \n",
       "6225            336            42           2        285          5         0   \n",
       "6174            336            42           2        285          5         0   \n",
       "6173            205            39           4        197          4         4   \n",
       "6224            205            39           4        197          4         4   \n",
       "\n",
       "      num_hahas  num_sads  num_angrys  \n",
       "6227          1         0           0  \n",
       "6176          1         0           0  \n",
       "6226          0         0           0  \n",
       "6175          0         0           0  \n",
       "6225          0        46           0  \n",
       "6174          0        46           0  \n",
       "6173          0         0           0  \n",
       "6224          0         0           0  "
      ]
     },
     "execution_count": 11,
     "metadata": {},
     "output_type": "execute_result"
    }
   ],
   "source": [
    "duplicated_data.sort_values(by=[\"status_id\"]).tail(8)"
   ]
  },
  {
   "cell_type": "markdown",
   "id": "1e20bb30",
   "metadata": {},
   "source": [
    "* Se observa que realmente son filas duplicadas, por lo que se procede a **eliminar** las mismas."
   ]
  },
  {
   "cell_type": "code",
   "execution_count": 12,
   "id": "a41bc699",
   "metadata": {},
   "outputs": [],
   "source": [
    "data_ndp = df2.drop_duplicates(subset='status_id',keep='last')"
   ]
  },
  {
   "cell_type": "code",
   "execution_count": 13,
   "id": "6bdf6384",
   "metadata": {},
   "outputs": [
    {
     "data": {
      "text/plain": [
       "(6997, 12)"
      ]
     },
     "execution_count": 13,
     "metadata": {},
     "output_type": "execute_result"
    }
   ],
   "source": [
    "data_ndp.shape"
   ]
  },
  {
   "cell_type": "markdown",
   "id": "f7a6e091",
   "metadata": {},
   "source": [
    "**CATEGORICAL VARIABLE ENCODING:**"
   ]
  },
  {
   "cell_type": "markdown",
   "id": "a252f591",
   "metadata": {},
   "source": [
    "* La variable **status_type**, contiene 4 categorias **nominales**, por lo que se propone realizar ONE - HOT ENCODING."
   ]
  },
  {
   "cell_type": "code",
   "execution_count": 14,
   "id": "97135cd1",
   "metadata": {},
   "outputs": [],
   "source": [
    "data_dummies = pd.get_dummies(data_ndp, prefix= \"type\", columns=[\"status_type\"], drop_first=False)"
   ]
  },
  {
   "cell_type": "code",
   "execution_count": 15,
   "id": "2a6a9cb8",
   "metadata": {},
   "outputs": [
    {
     "data": {
      "text/plain": [
       "(6997, 15)"
      ]
     },
     "execution_count": 15,
     "metadata": {},
     "output_type": "execute_result"
    }
   ],
   "source": [
    "data_dummies.shape"
   ]
  },
  {
   "cell_type": "markdown",
   "id": "fed7130c",
   "metadata": {},
   "source": [
    "**CHANGE FORMAT + EXTRACT:**"
   ]
  },
  {
   "cell_type": "markdown",
   "id": "ef18f378",
   "metadata": {},
   "source": [
    "* Se cambia el formato de la fecha/hora y se extraen los valores para poder utilizarlos en nuestro modelo."
   ]
  },
  {
   "cell_type": "markdown",
   "id": "bbc69c11",
   "metadata": {},
   "source": [
    "**status_published**"
   ]
  },
  {
   "cell_type": "code",
   "execution_count": 16,
   "id": "a101ef75",
   "metadata": {},
   "outputs": [],
   "source": [
    "df3 = data_dummies"
   ]
  },
  {
   "cell_type": "code",
   "execution_count": 17,
   "id": "2e4a2d87",
   "metadata": {},
   "outputs": [],
   "source": [
    "#Converting to datetime datatype\n",
    "df3['status_published'] = pd.to_datetime(df3['status_published'])"
   ]
  },
  {
   "cell_type": "code",
   "execution_count": 18,
   "id": "adb1a49c",
   "metadata": {},
   "outputs": [],
   "source": [
    "#Extract from datetime\n",
    "df3['year'] = df3['status_published'].dt.year\n",
    "df3['month'] = df3['status_published'].dt.month\n",
    "df3['day'] = df3['status_published'].dt.day\n",
    "df3['hour'] = df3['status_published'].dt.hour\n",
    "df3['minute'] = df3['status_published'].dt.minute\n",
    "df3['dayofweek'] = df3['status_published'].dt.dayofweek"
   ]
  },
  {
   "cell_type": "markdown",
   "id": "b8847602",
   "metadata": {},
   "source": [
    "* Finalmente nombro un nuevo dataframe sin las 2 primeras columnas para tener un **dataframe final** solo con variables numéricas."
   ]
  },
  {
   "cell_type": "code",
   "execution_count": 19,
   "id": "0fb28f0b",
   "metadata": {},
   "outputs": [],
   "source": [
    "data = df3.iloc[:, 2:]"
   ]
  },
  {
   "cell_type": "code",
   "execution_count": 20,
   "id": "584df962",
   "metadata": {},
   "outputs": [
    {
     "data": {
      "text/html": [
       "<div>\n",
       "<style scoped>\n",
       "    .dataframe tbody tr th:only-of-type {\n",
       "        vertical-align: middle;\n",
       "    }\n",
       "\n",
       "    .dataframe tbody tr th {\n",
       "        vertical-align: top;\n",
       "    }\n",
       "\n",
       "    .dataframe thead th {\n",
       "        text-align: right;\n",
       "    }\n",
       "</style>\n",
       "<table border=\"1\" class=\"dataframe\">\n",
       "  <thead>\n",
       "    <tr style=\"text-align: right;\">\n",
       "      <th></th>\n",
       "      <th>num_reactions</th>\n",
       "      <th>num_comments</th>\n",
       "      <th>num_shares</th>\n",
       "      <th>num_likes</th>\n",
       "      <th>num_loves</th>\n",
       "      <th>num_wows</th>\n",
       "      <th>num_hahas</th>\n",
       "      <th>num_sads</th>\n",
       "      <th>num_angrys</th>\n",
       "      <th>type_link</th>\n",
       "      <th>type_photo</th>\n",
       "      <th>type_status</th>\n",
       "      <th>type_video</th>\n",
       "      <th>year</th>\n",
       "      <th>month</th>\n",
       "      <th>day</th>\n",
       "      <th>hour</th>\n",
       "      <th>minute</th>\n",
       "      <th>dayofweek</th>\n",
       "    </tr>\n",
       "  </thead>\n",
       "  <tbody>\n",
       "    <tr>\n",
       "      <th>0</th>\n",
       "      <td>529</td>\n",
       "      <td>512</td>\n",
       "      <td>262</td>\n",
       "      <td>432</td>\n",
       "      <td>92</td>\n",
       "      <td>3</td>\n",
       "      <td>1</td>\n",
       "      <td>1</td>\n",
       "      <td>0</td>\n",
       "      <td>0</td>\n",
       "      <td>0</td>\n",
       "      <td>0</td>\n",
       "      <td>1</td>\n",
       "      <td>2018</td>\n",
       "      <td>4</td>\n",
       "      <td>22</td>\n",
       "      <td>6</td>\n",
       "      <td>0</td>\n",
       "      <td>6</td>\n",
       "    </tr>\n",
       "    <tr>\n",
       "      <th>1</th>\n",
       "      <td>150</td>\n",
       "      <td>0</td>\n",
       "      <td>0</td>\n",
       "      <td>150</td>\n",
       "      <td>0</td>\n",
       "      <td>0</td>\n",
       "      <td>0</td>\n",
       "      <td>0</td>\n",
       "      <td>0</td>\n",
       "      <td>0</td>\n",
       "      <td>1</td>\n",
       "      <td>0</td>\n",
       "      <td>0</td>\n",
       "      <td>2018</td>\n",
       "      <td>4</td>\n",
       "      <td>21</td>\n",
       "      <td>22</td>\n",
       "      <td>45</td>\n",
       "      <td>5</td>\n",
       "    </tr>\n",
       "    <tr>\n",
       "      <th>2</th>\n",
       "      <td>227</td>\n",
       "      <td>236</td>\n",
       "      <td>57</td>\n",
       "      <td>204</td>\n",
       "      <td>21</td>\n",
       "      <td>1</td>\n",
       "      <td>1</td>\n",
       "      <td>0</td>\n",
       "      <td>0</td>\n",
       "      <td>0</td>\n",
       "      <td>0</td>\n",
       "      <td>0</td>\n",
       "      <td>1</td>\n",
       "      <td>2018</td>\n",
       "      <td>4</td>\n",
       "      <td>21</td>\n",
       "      <td>6</td>\n",
       "      <td>17</td>\n",
       "      <td>5</td>\n",
       "    </tr>\n",
       "    <tr>\n",
       "      <th>3</th>\n",
       "      <td>111</td>\n",
       "      <td>0</td>\n",
       "      <td>0</td>\n",
       "      <td>111</td>\n",
       "      <td>0</td>\n",
       "      <td>0</td>\n",
       "      <td>0</td>\n",
       "      <td>0</td>\n",
       "      <td>0</td>\n",
       "      <td>0</td>\n",
       "      <td>1</td>\n",
       "      <td>0</td>\n",
       "      <td>0</td>\n",
       "      <td>2018</td>\n",
       "      <td>4</td>\n",
       "      <td>21</td>\n",
       "      <td>2</td>\n",
       "      <td>29</td>\n",
       "      <td>5</td>\n",
       "    </tr>\n",
       "    <tr>\n",
       "      <th>4</th>\n",
       "      <td>213</td>\n",
       "      <td>0</td>\n",
       "      <td>0</td>\n",
       "      <td>204</td>\n",
       "      <td>9</td>\n",
       "      <td>0</td>\n",
       "      <td>0</td>\n",
       "      <td>0</td>\n",
       "      <td>0</td>\n",
       "      <td>0</td>\n",
       "      <td>1</td>\n",
       "      <td>0</td>\n",
       "      <td>0</td>\n",
       "      <td>2018</td>\n",
       "      <td>4</td>\n",
       "      <td>18</td>\n",
       "      <td>3</td>\n",
       "      <td>22</td>\n",
       "      <td>2</td>\n",
       "    </tr>\n",
       "  </tbody>\n",
       "</table>\n",
       "</div>"
      ],
      "text/plain": [
       "   num_reactions  num_comments  num_shares  num_likes  num_loves  num_wows  \\\n",
       "0            529           512         262        432         92         3   \n",
       "1            150             0           0        150          0         0   \n",
       "2            227           236          57        204         21         1   \n",
       "3            111             0           0        111          0         0   \n",
       "4            213             0           0        204          9         0   \n",
       "\n",
       "   num_hahas  num_sads  num_angrys  type_link  type_photo  type_status  \\\n",
       "0          1         1           0          0           0            0   \n",
       "1          0         0           0          0           1            0   \n",
       "2          1         0           0          0           0            0   \n",
       "3          0         0           0          0           1            0   \n",
       "4          0         0           0          0           1            0   \n",
       "\n",
       "   type_video  year  month  day  hour  minute  dayofweek  \n",
       "0           1  2018      4   22     6       0          6  \n",
       "1           0  2018      4   21    22      45          5  \n",
       "2           1  2018      4   21     6      17          5  \n",
       "3           0  2018      4   21     2      29          5  \n",
       "4           0  2018      4   18     3      22          2  "
      ]
     },
     "execution_count": 20,
     "metadata": {},
     "output_type": "execute_result"
    }
   ],
   "source": [
    "data.head()"
   ]
  },
  {
   "cell_type": "markdown",
   "id": "dac2ea9e",
   "metadata": {},
   "source": [
    "**3. PREPOCESSING THE DATA:**"
   ]
  },
  {
   "cell_type": "code",
   "execution_count": 21,
   "id": "45518721",
   "metadata": {},
   "outputs": [
    {
     "data": {
      "image/png": "[encoded data removed]",
      "text/plain": [
       "<Figure size 1008x432 with 20 Axes>"
      ]
     },
     "metadata": {
      "needs_background": "light"
     },
     "output_type": "display_data"
    }
   ],
   "source": [
    "data.hist(figsize=(14,6))\n",
    "plt.tight_layout()"
   ]
  },
  {
   "cell_type": "code",
   "execution_count": 22,
   "id": "9bdaa72c",
   "metadata": {},
   "outputs": [
    {
     "data": {
      "image/png": "[encoded data removed]",
      "text/plain": [
       "<Figure size 1152x576 with 20 Axes>"
      ]
     },
     "metadata": {
      "needs_background": "light"
     },
     "output_type": "display_data"
    }
   ],
   "source": [
    "#Creating subplot of each column with its own scale\n",
    "red_circle = dict(markerfacecolor='red', marker='o', markeredgecolor='black', ms=5)\n",
    "\n",
    "fig, axes = plt.subplots(5, 4, figsize=(16, 8))\n",
    "\n",
    "for idx, (col, ax) in enumerate(zip(data.columns, axes.flatten())):\n",
    "    ax.boxplot(data[col], flierprops=red_circle, vert=False,\n",
    "              patch_artist=True, notch = False, widths = 0.5)\n",
    "    ax.set_title(col, fontweight='bold')\n",
    "    plt.subplots_adjust(wspace=.2, hspace=.8)\n",
    "else:\n",
    "    [ax.set_visible(False) for ax in axes.flatten()[idx+1:]]"
   ]
  },
  {
   "cell_type": "markdown",
   "id": "5ff1dad2",
   "metadata": {},
   "source": [
    "#### 3.1. Standarization  \n",
    "No existen distribuciones gaussianas."
   ]
  },
  {
   "cell_type": "markdown",
   "id": "9fc65909",
   "metadata": {},
   "source": [
    "#### 3.2 Normalization"
   ]
  },
  {
   "cell_type": "markdown",
   "id": "3c58a95f",
   "metadata": {},
   "source": [
    "Se identificaron variables con outliers, en este caso se realizará un **RobustScaler**, para las demás simplemente un **MinMaxScaler**"
   ]
  },
  {
   "cell_type": "markdown",
   "id": "ce6c5e6b",
   "metadata": {},
   "source": [
    "**RobustScaler:**"
   ]
  },
  {
   "cell_type": "code",
   "execution_count": 23,
   "id": "19bcaa41",
   "metadata": {},
   "outputs": [],
   "source": [
    "robustColumns = ['num_reactions', 'num_comments', 'num_shares', 'num_likes', 'num_loves',\n",
    "       'num_wows', 'num_hahas', 'num_sads', 'num_angrys', 'type_link', 'type_status', 'year', 'hour']\n",
    "scalerRobust = RobustScaler().fit(data[robustColumns])\n",
    "data[robustColumns] = scalerRobust.transform(data[robustColumns])"
   ]
  },
  {
   "cell_type": "markdown",
   "id": "0bc20d44",
   "metadata": {},
   "source": [
    "**MinMaxScaler:**"
   ]
  },
  {
   "cell_type": "code",
   "execution_count": 24,
   "id": "6c49e468",
   "metadata": {},
   "outputs": [],
   "source": [
    "normColumns = ['type_photo', 'type_video', 'month', 'day', 'minute', 'dayofweek']\n",
    "scalerNorm = MinMaxScaler().fit(data[normColumns])\n",
    "data[normColumns] = scalerNorm.transform(data[normColumns])"
   ]
  },
  {
   "cell_type": "markdown",
   "id": "0ec86229",
   "metadata": {},
   "source": [
    "**3.3 PCA (Principal Component Analisis):**"
   ]
  },
  {
   "cell_type": "markdown",
   "id": "15f2f452",
   "metadata": {},
   "source": [
    "También es necesario reducir la cantidad de componentes, con una varianza no menor del 95%."
   ]
  },
  {
   "cell_type": "code",
   "execution_count": 25,
   "id": "7f5459de",
   "metadata": {},
   "outputs": [
    {
     "data": {
      "text/plain": [
       "Text(0, 0.5, 'Cumulative explained variance')"
      ]
     },
     "execution_count": 25,
     "metadata": {},
     "output_type": "execute_result"
    },
    {
     "data": {
      "image/png": "[encoded data removed]",
      "text/plain": [
       "<Figure size 432x288 with 1 Axes>"
      ]
     },
     "metadata": {
      "needs_background": "light"
     },
     "output_type": "display_data"
    }
   ],
   "source": [
    "pca = PCA().fit(data)\n",
    "plt.plot(np.cumsum(pca.explained_variance_ratio_), marker = \"o\")\n",
    "plt.axhline(0.95, color = \"r\", linestyle = \"--\")\n",
    "plt.xlim([-1, 10])\n",
    "plt.xlabel('Number of components')\n",
    "plt.ylabel('Cumulative explained variance')"
   ]
  },
  {
   "cell_type": "markdown",
   "id": "5aa05316",
   "metadata": {},
   "source": [
    "* Se elige Number of components = **1**"
   ]
  },
  {
   "cell_type": "code",
   "execution_count": 26,
   "id": "ed34ac75",
   "metadata": {},
   "outputs": [],
   "source": [
    "#apply pca to the data\n",
    "pca_components = PCA(n_components = 1).fit_transform(data)"
   ]
  },
  {
   "cell_type": "code",
   "execution_count": 27,
   "id": "c8d7a77e",
   "metadata": {},
   "outputs": [],
   "source": [
    "#creating a dataframe with the pca values\n",
    "pca_df = pd.DataFrame(data = pca_components, columns = [\"pca1\"])"
   ]
  },
  {
   "cell_type": "code",
   "execution_count": 28,
   "id": "7919a1a9",
   "metadata": {},
   "outputs": [
    {
     "data": {
      "text/html": [
       "<div>\n",
       "<style scoped>\n",
       "    .dataframe tbody tr th:only-of-type {\n",
       "        vertical-align: middle;\n",
       "    }\n",
       "\n",
       "    .dataframe tbody tr th {\n",
       "        vertical-align: top;\n",
       "    }\n",
       "\n",
       "    .dataframe thead th {\n",
       "        text-align: right;\n",
       "    }\n",
       "</style>\n",
       "<table border=\"1\" class=\"dataframe\">\n",
       "  <thead>\n",
       "    <tr style=\"text-align: right;\">\n",
       "      <th></th>\n",
       "      <th>pca1</th>\n",
       "    </tr>\n",
       "  </thead>\n",
       "  <tbody>\n",
       "    <tr>\n",
       "      <th>0</th>\n",
       "      <td>48.144924</td>\n",
       "    </tr>\n",
       "    <tr>\n",
       "      <th>1</th>\n",
       "      <td>-14.878488</td>\n",
       "    </tr>\n",
       "    <tr>\n",
       "      <th>2</th>\n",
       "      <td>3.374854</td>\n",
       "    </tr>\n",
       "    <tr>\n",
       "      <th>3</th>\n",
       "      <td>-14.881207</td>\n",
       "    </tr>\n",
       "    <tr>\n",
       "      <th>4</th>\n",
       "      <td>-14.271414</td>\n",
       "    </tr>\n",
       "  </tbody>\n",
       "</table>\n",
       "</div>"
      ],
      "text/plain": [
       "        pca1\n",
       "0  48.144924\n",
       "1 -14.878488\n",
       "2   3.374854\n",
       "3 -14.881207\n",
       "4 -14.271414"
      ]
     },
     "execution_count": 28,
     "metadata": {},
     "output_type": "execute_result"
    }
   ],
   "source": [
    "pca_df.head()"
   ]
  },
  {
   "cell_type": "markdown",
   "id": "55a25f21",
   "metadata": {},
   "source": [
    "**4. MODELS**"
   ]
  },
  {
   "cell_type": "markdown",
   "id": "1ddae850",
   "metadata": {},
   "source": [
    "**4.1. K- MEANS:**"
   ]
  },
  {
   "cell_type": "markdown",
   "id": "9f83100f",
   "metadata": {},
   "source": [
    "Para utilizar el algoritmo de K-means, se requiere **definir el número de K** (clusters), para esto utilizaremos \"Elbow Method\"."
   ]
  },
  {
   "cell_type": "code",
   "execution_count": 29,
   "id": "da743bba",
   "metadata": {},
   "outputs": [],
   "source": [
    "def elbow_plot(df):\n",
    "    \"\"\"Create elbow plot from normalized data\"\"\"\n",
    "    sse = {}\n",
    "    sse_r = []\n",
    "    for k in range(1, 21):\n",
    "        kmeans = KMeans(n_clusters=k, random_state=1)\n",
    "        kmeans.fit(df)\n",
    "        sse[k] = kmeans.inertia_\n",
    "        sse_r.append(kmeans.inertia_)\n",
    "    \n",
    "    plt.title('Elbow plot for K selection')\n",
    "    plt.xlabel('k')\n",
    "    plt.ylabel('SSE')\n",
    "    sns.pointplot(x=list(sse.keys()),\n",
    "                 y=list(sse.values()))\n",
    "    plt.show()\n",
    "    return sse_r"
   ]
  },
  {
   "cell_type": "code",
   "execution_count": 30,
   "id": "081d629e",
   "metadata": {},
   "outputs": [
    {
     "data": {
      "image/png": "[encoded data removed]",
      "text/plain": [
       "<Figure size 432x288 with 1 Axes>"
      ]
     },
     "metadata": {
      "needs_background": "light"
     },
     "output_type": "display_data"
    }
   ],
   "source": [
    "sse = elbow_plot(pca_df)"
   ]
  },
  {
   "cell_type": "code",
   "execution_count": 31,
   "id": "3d70b44b",
   "metadata": {},
   "outputs": [
    {
     "data": {
      "text/plain": [
       "4"
      ]
     },
     "execution_count": 31,
     "metadata": {},
     "output_type": "execute_result"
    }
   ],
   "source": [
    "kl = KneeLocator(range(1, 21), sse, curve=\"convex\", direction=\"decreasing\")\n",
    "kl.elbow"
   ]
  },
  {
   "cell_type": "markdown",
   "id": "f01c5a7d",
   "metadata": {},
   "source": [
    "* Se elige **K = 4**."
   ]
  },
  {
   "cell_type": "code",
   "execution_count": 32,
   "id": "1f2c60e0",
   "metadata": {},
   "outputs": [
    {
     "data": {
      "text/plain": [
       "KMeans(n_clusters=4, random_state=42)"
      ]
     },
     "execution_count": 32,
     "metadata": {},
     "output_type": "execute_result"
    }
   ],
   "source": [
    "k_means = KMeans(n_clusters=4, random_state=42)\n",
    "k_means.fit(pca_df)"
   ]
  },
  {
   "cell_type": "markdown",
   "id": "b476b9d3",
   "metadata": {},
   "source": [
    "**4.1.1. PREDICTION**"
   ]
  },
  {
   "cell_type": "code",
   "execution_count": 33,
   "id": "c538c102",
   "metadata": {},
   "outputs": [
    {
     "data": {
      "text/plain": [
       "array([3, 1, 1, ..., 1, 1, 1])"
      ]
     },
     "execution_count": 33,
     "metadata": {},
     "output_type": "execute_result"
    }
   ],
   "source": [
    "y_pred = k_means.predict(pca_df)\n",
    "y_pred"
   ]
  },
  {
   "cell_type": "code",
   "execution_count": 34,
   "id": "3a3acdbf",
   "metadata": {},
   "outputs": [
    {
     "data": {
      "text/html": [
       "<div>\n",
       "<style scoped>\n",
       "    .dataframe tbody tr th:only-of-type {\n",
       "        vertical-align: middle;\n",
       "    }\n",
       "\n",
       "    .dataframe tbody tr th {\n",
       "        vertical-align: top;\n",
       "    }\n",
       "\n",
       "    .dataframe thead th {\n",
       "        text-align: right;\n",
       "    }\n",
       "</style>\n",
       "<table border=\"1\" class=\"dataframe\">\n",
       "  <thead>\n",
       "    <tr style=\"text-align: right;\">\n",
       "      <th></th>\n",
       "      <th>num_reactions</th>\n",
       "      <th>num_comments</th>\n",
       "      <th>num_shares</th>\n",
       "      <th>num_likes</th>\n",
       "      <th>num_loves</th>\n",
       "      <th>num_wows</th>\n",
       "      <th>num_hahas</th>\n",
       "      <th>num_sads</th>\n",
       "      <th>num_angrys</th>\n",
       "      <th>type_link</th>\n",
       "      <th>type_photo</th>\n",
       "      <th>type_status</th>\n",
       "      <th>type_video</th>\n",
       "      <th>year</th>\n",
       "      <th>month</th>\n",
       "      <th>day</th>\n",
       "      <th>hour</th>\n",
       "      <th>minute</th>\n",
       "      <th>dayofweek</th>\n",
       "      <th>Cluster_KM</th>\n",
       "    </tr>\n",
       "  </thead>\n",
       "  <tbody>\n",
       "    <tr>\n",
       "      <th>0</th>\n",
       "      <td>2.366834</td>\n",
       "      <td>23.090909</td>\n",
       "      <td>65.50</td>\n",
       "      <td>2.272727</td>\n",
       "      <td>30.666667</td>\n",
       "      <td>3.0</td>\n",
       "      <td>1.0</td>\n",
       "      <td>1.0</td>\n",
       "      <td>0.0</td>\n",
       "      <td>0.0</td>\n",
       "      <td>0.0</td>\n",
       "      <td>0.0</td>\n",
       "      <td>1.0</td>\n",
       "      <td>0.5</td>\n",
       "      <td>0.272727</td>\n",
       "      <td>0.700000</td>\n",
       "      <td>-0.142857</td>\n",
       "      <td>0.000000</td>\n",
       "      <td>1.000000</td>\n",
       "      <td>3</td>\n",
       "    </tr>\n",
       "    <tr>\n",
       "      <th>1</th>\n",
       "      <td>0.462312</td>\n",
       "      <td>-0.181818</td>\n",
       "      <td>0.00</td>\n",
       "      <td>0.563636</td>\n",
       "      <td>0.000000</td>\n",
       "      <td>0.0</td>\n",
       "      <td>0.0</td>\n",
       "      <td>0.0</td>\n",
       "      <td>0.0</td>\n",
       "      <td>0.0</td>\n",
       "      <td>1.0</td>\n",
       "      <td>0.0</td>\n",
       "      <td>0.0</td>\n",
       "      <td>0.5</td>\n",
       "      <td>0.272727</td>\n",
       "      <td>0.666667</td>\n",
       "      <td>2.142857</td>\n",
       "      <td>0.762712</td>\n",
       "      <td>0.833333</td>\n",
       "      <td>1</td>\n",
       "    </tr>\n",
       "    <tr>\n",
       "      <th>2</th>\n",
       "      <td>0.849246</td>\n",
       "      <td>10.545455</td>\n",
       "      <td>14.25</td>\n",
       "      <td>0.890909</td>\n",
       "      <td>7.000000</td>\n",
       "      <td>1.0</td>\n",
       "      <td>1.0</td>\n",
       "      <td>0.0</td>\n",
       "      <td>0.0</td>\n",
       "      <td>0.0</td>\n",
       "      <td>0.0</td>\n",
       "      <td>0.0</td>\n",
       "      <td>1.0</td>\n",
       "      <td>0.5</td>\n",
       "      <td>0.272727</td>\n",
       "      <td>0.666667</td>\n",
       "      <td>-0.142857</td>\n",
       "      <td>0.288136</td>\n",
       "      <td>0.833333</td>\n",
       "      <td>1</td>\n",
       "    </tr>\n",
       "    <tr>\n",
       "      <th>3</th>\n",
       "      <td>0.266332</td>\n",
       "      <td>-0.181818</td>\n",
       "      <td>0.00</td>\n",
       "      <td>0.327273</td>\n",
       "      <td>0.000000</td>\n",
       "      <td>0.0</td>\n",
       "      <td>0.0</td>\n",
       "      <td>0.0</td>\n",
       "      <td>0.0</td>\n",
       "      <td>0.0</td>\n",
       "      <td>1.0</td>\n",
       "      <td>0.0</td>\n",
       "      <td>0.0</td>\n",
       "      <td>0.5</td>\n",
       "      <td>0.272727</td>\n",
       "      <td>0.666667</td>\n",
       "      <td>-0.714286</td>\n",
       "      <td>0.491525</td>\n",
       "      <td>0.833333</td>\n",
       "      <td>1</td>\n",
       "    </tr>\n",
       "    <tr>\n",
       "      <th>4</th>\n",
       "      <td>0.778894</td>\n",
       "      <td>-0.181818</td>\n",
       "      <td>0.00</td>\n",
       "      <td>0.890909</td>\n",
       "      <td>3.000000</td>\n",
       "      <td>0.0</td>\n",
       "      <td>0.0</td>\n",
       "      <td>0.0</td>\n",
       "      <td>0.0</td>\n",
       "      <td>0.0</td>\n",
       "      <td>1.0</td>\n",
       "      <td>0.0</td>\n",
       "      <td>0.0</td>\n",
       "      <td>0.5</td>\n",
       "      <td>0.272727</td>\n",
       "      <td>0.566667</td>\n",
       "      <td>-0.571429</td>\n",
       "      <td>0.372881</td>\n",
       "      <td>0.333333</td>\n",
       "      <td>1</td>\n",
       "    </tr>\n",
       "  </tbody>\n",
       "</table>\n",
       "</div>"
      ],
      "text/plain": [
       "   num_reactions  num_comments  num_shares  num_likes  num_loves  num_wows  \\\n",
       "0       2.366834     23.090909       65.50   2.272727  30.666667       3.0   \n",
       "1       0.462312     -0.181818        0.00   0.563636   0.000000       0.0   \n",
       "2       0.849246     10.545455       14.25   0.890909   7.000000       1.0   \n",
       "3       0.266332     -0.181818        0.00   0.327273   0.000000       0.0   \n",
       "4       0.778894     -0.181818        0.00   0.890909   3.000000       0.0   \n",
       "\n",
       "   num_hahas  num_sads  num_angrys  type_link  type_photo  type_status  \\\n",
       "0        1.0       1.0         0.0        0.0         0.0          0.0   \n",
       "1        0.0       0.0         0.0        0.0         1.0          0.0   \n",
       "2        1.0       0.0         0.0        0.0         0.0          0.0   \n",
       "3        0.0       0.0         0.0        0.0         1.0          0.0   \n",
       "4        0.0       0.0         0.0        0.0         1.0          0.0   \n",
       "\n",
       "   type_video  year     month       day      hour    minute  dayofweek  \\\n",
       "0         1.0   0.5  0.272727  0.700000 -0.142857  0.000000   1.000000   \n",
       "1         0.0   0.5  0.272727  0.666667  2.142857  0.762712   0.833333   \n",
       "2         1.0   0.5  0.272727  0.666667 -0.142857  0.288136   0.833333   \n",
       "3         0.0   0.5  0.272727  0.666667 -0.714286  0.491525   0.833333   \n",
       "4         0.0   0.5  0.272727  0.566667 -0.571429  0.372881   0.333333   \n",
       "\n",
       "   Cluster_KM  \n",
       "0           3  \n",
       "1           1  \n",
       "2           1  \n",
       "3           1  \n",
       "4           1  "
      ]
     },
     "execution_count": 34,
     "metadata": {},
     "output_type": "execute_result"
    }
   ],
   "source": [
    "data['Cluster_KM'] = y_pred\n",
    "data.head()"
   ]
  },
  {
   "cell_type": "markdown",
   "id": "7eeaa980",
   "metadata": {},
   "source": [
    "**4.1.2. VISUALIZATIONS:**"
   ]
  },
  {
   "cell_type": "code",
   "execution_count": 35,
   "id": "73d18522",
   "metadata": {},
   "outputs": [
    {
     "data": {
      "text/plain": [
       "1    6124\n",
       "3     622\n",
       "2     211\n",
       "0      40\n",
       "Name: Cluster_KM, dtype: int64"
      ]
     },
     "execution_count": 35,
     "metadata": {},
     "output_type": "execute_result"
    }
   ],
   "source": [
    "data.Cluster_KM.value_counts()"
   ]
  },
  {
   "cell_type": "code",
   "execution_count": 36,
   "id": "ac70dda0",
   "metadata": {},
   "outputs": [
    {
     "data": {
      "text/plain": [
       "<AxesSubplot:xlabel='Cluster_KM', ylabel='count'>"
      ]
     },
     "execution_count": 36,
     "metadata": {},
     "output_type": "execute_result"
    },
    {
     "data": {
      "image/png": "[encoded data removed]",
      "text/plain": [
       "<Figure size 432x288 with 1 Axes>"
      ]
     },
     "metadata": {
      "needs_background": "light"
     },
     "output_type": "display_data"
    }
   ],
   "source": [
    "sns.countplot(x = data.Cluster_KM)"
   ]
  },
  {
   "cell_type": "markdown",
   "id": "837c6e09",
   "metadata": {},
   "source": [
    "* Cerca del 90% de los registros pertenecen al: \"Cluster 1\""
   ]
  },
  {
   "cell_type": "code",
   "execution_count": 37,
   "id": "36b769ed",
   "metadata": {},
   "outputs": [
    {
     "data": {
      "text/html": [
       "<div>\n",
       "<style scoped>\n",
       "    .dataframe tbody tr th:only-of-type {\n",
       "        vertical-align: middle;\n",
       "    }\n",
       "\n",
       "    .dataframe tbody tr th {\n",
       "        vertical-align: top;\n",
       "    }\n",
       "\n",
       "    .dataframe thead th {\n",
       "        text-align: right;\n",
       "    }\n",
       "</style>\n",
       "<table border=\"1\" class=\"dataframe\">\n",
       "  <thead>\n",
       "    <tr style=\"text-align: right;\">\n",
       "      <th></th>\n",
       "      <th>pca1</th>\n",
       "      <th>Cluster_KM</th>\n",
       "    </tr>\n",
       "  </thead>\n",
       "  <tbody>\n",
       "    <tr>\n",
       "      <th>0</th>\n",
       "      <td>48.144924</td>\n",
       "      <td>3</td>\n",
       "    </tr>\n",
       "    <tr>\n",
       "      <th>1</th>\n",
       "      <td>-14.878488</td>\n",
       "      <td>1</td>\n",
       "    </tr>\n",
       "    <tr>\n",
       "      <th>2</th>\n",
       "      <td>3.374854</td>\n",
       "      <td>1</td>\n",
       "    </tr>\n",
       "    <tr>\n",
       "      <th>3</th>\n",
       "      <td>-14.881207</td>\n",
       "      <td>1</td>\n",
       "    </tr>\n",
       "    <tr>\n",
       "      <th>4</th>\n",
       "      <td>-14.271414</td>\n",
       "      <td>1</td>\n",
       "    </tr>\n",
       "  </tbody>\n",
       "</table>\n",
       "</div>"
      ],
      "text/plain": [
       "        pca1  Cluster_KM\n",
       "0  48.144924           3\n",
       "1 -14.878488           1\n",
       "2   3.374854           1\n",
       "3 -14.881207           1\n",
       "4 -14.271414           1"
      ]
     },
     "execution_count": 37,
     "metadata": {},
     "output_type": "execute_result"
    }
   ],
   "source": [
    "k_means_df = pca_df\n",
    "k_means_df['Cluster_KM'] = y_pred\n",
    "k_means_df.head()"
   ]
  },
  {
   "cell_type": "code",
   "execution_count": 38,
   "id": "6f6ecb89",
   "metadata": {},
   "outputs": [
    {
     "data": {
      "text/plain": [
       "<AxesSubplot:xlabel='Cluster_KM', ylabel='pca1'>"
      ]
     },
     "execution_count": 38,
     "metadata": {},
     "output_type": "execute_result"
    },
    {
     "data": {
      "image/png": "[encoded data removed]",
      "text/plain": [
       "<Figure size 432x288 with 1 Axes>"
      ]
     },
     "metadata": {
      "needs_background": "light"
     },
     "output_type": "display_data"
    }
   ],
   "source": [
    "sns.boxplot(x='Cluster_KM', y=\"pca1\", data=k_means_df)"
   ]
  },
  {
   "cell_type": "markdown",
   "id": "ab699698",
   "metadata": {},
   "source": [
    "* Dado que la reducción de componente (PCA), se realizó con 1 solo componente, obtenemos la gráfica arriba mostrada, donde se muestran los 4 clusters formados y se observa una acumulación de datos en el Cluster 1, los demás Clusters (0,2,3) con rangos un poco mayores y un par de puntos alejados que se clasficarón en el cluster 0."
   ]
  },
  {
   "cell_type": "code",
   "execution_count": 39,
   "id": "2501cf93",
   "metadata": {},
   "outputs": [],
   "source": [
    "df3[\"Cluster_KM\"] = y_pred"
   ]
  },
  {
   "cell_type": "code",
   "execution_count": 40,
   "id": "5b6042b9",
   "metadata": {},
   "outputs": [
    {
     "data": {
      "image/png": "[encoded data removed]",
      "text/plain": [
       "<Figure size 432x288 with 1 Axes>"
      ]
     },
     "metadata": {
      "needs_background": "light"
     },
     "output_type": "display_data"
    },
    {
     "data": {
      "image/png": "[encoded data removed]",
      "text/plain": [
       "<Figure size 432x288 with 1 Axes>"
      ]
     },
     "metadata": {
      "needs_background": "light"
     },
     "output_type": "display_data"
    },
    {
     "data": {
      "image/png": "[encoded data removed]",
      "text/plain": [
       "<Figure size 432x288 with 1 Axes>"
      ]
     },
     "metadata": {
      "needs_background": "light"
     },
     "output_type": "display_data"
    },
    {
     "data": {
      "image/png": "[encoded data removed]",
      "text/plain": [
       "<Figure size 432x288 with 1 Axes>"
      ]
     },
     "metadata": {
      "needs_background": "light"
     },
     "output_type": "display_data"
    },
    {
     "data": {
      "image/png": "[encoded data removed]",
      "text/plain": [
       "<Figure size 432x288 with 1 Axes>"
      ]
     },
     "metadata": {
      "needs_background": "light"
     },
     "output_type": "display_data"
    },
    {
     "data": {
      "image/png": "[encoded data removed]",
      "text/plain": [
       "<Figure size 432x288 with 1 Axes>"
      ]
     },
     "metadata": {
      "needs_background": "light"
     },
     "output_type": "display_data"
    },
    {
     "data": {
      "image/png": "[encoded data removed]",
      "text/plain": [
       "<Figure size 432x288 with 1 Axes>"
      ]
     },
     "metadata": {
      "needs_background": "light"
     },
     "output_type": "display_data"
    },
    {
     "data": {
      "image/png": "[encoded data removed]",
      "text/plain": [
       "<Figure size 432x288 with 1 Axes>"
      ]
     },
     "metadata": {
      "needs_background": "light"
     },
     "output_type": "display_data"
    },
    {
     "data": {
      "image/png": "[encoded data removed]",
      "text/plain": [
       "<Figure size 432x288 with 1 Axes>"
      ]
     },
     "metadata": {
      "needs_background": "light"
     },
     "output_type": "display_data"
    },
    {
     "data": {
      "image/png": "[encoded data removed]",
      "text/plain": [
       "<Figure size 432x288 with 1 Axes>"
      ]
     },
     "metadata": {
      "needs_background": "light"
     },
     "output_type": "display_data"
    },
    {
     "data": {
      "image/png": "[encoded data removed]",
      "text/plain": [
       "<Figure size 432x288 with 1 Axes>"
      ]
     },
     "metadata": {
      "needs_background": "light"
     },
     "output_type": "display_data"
    },
    {
     "data": {
      "image/png": "[encoded data removed]",
      "text/plain": [
       "<Figure size 432x288 with 1 Axes>"
      ]
     },
     "metadata": {
      "needs_background": "light"
     },
     "output_type": "display_data"
    },
    {
     "data": {
      "image/png": "[encoded data removed]",
      "text/plain": [
       "<Figure size 432x288 with 1 Axes>"
      ]
     },
     "metadata": {
      "needs_background": "light"
     },
     "output_type": "display_data"
    },
    {
     "data": {
      "image/png": "[encoded data removed]",
      "text/plain": [
       "<Figure size 432x288 with 1 Axes>"
      ]
     },
     "metadata": {
      "needs_background": "light"
     },
     "output_type": "display_data"
    },
    {
     "data": {
      "image/png": "[encoded data removed]",
      "text/plain": [
       "<Figure size 432x288 with 1 Axes>"
      ]
     },
     "metadata": {
      "needs_background": "light"
     },
     "output_type": "display_data"
    },
    {
     "data": {
      "image/png": "[encoded data removed]",
      "text/plain": [
       "<Figure size 432x288 with 1 Axes>"
      ]
     },
     "metadata": {
      "needs_background": "light"
     },
     "output_type": "display_data"
    },
    {
     "data": {
      "image/png": "[encoded data removed]",
      "text/plain": [
       "<Figure size 432x288 with 1 Axes>"
      ]
     },
     "metadata": {
      "needs_background": "light"
     },
     "output_type": "display_data"
    },
    {
     "data": {
      "image/png": "[encoded data removed]",
      "text/plain": [
       "<Figure size 432x288 with 1 Axes>"
      ]
     },
     "metadata": {
      "needs_background": "light"
     },
     "output_type": "display_data"
    },
    {
     "data": {
      "image/png": "[encoded data removed]",
      "text/plain": [
       "<Figure size 432x288 with 1 Axes>"
      ]
     },
     "metadata": {
      "needs_background": "light"
     },
     "output_type": "display_data"
    },
    {
     "data": {
      "image/png": "[encoded data removed]",
      "text/plain": [
       "<Figure size 432x288 with 1 Axes>"
      ]
     },
     "metadata": {
      "needs_background": "light"
     },
     "output_type": "display_data"
    }
   ],
   "source": [
    "skip = df3.iloc[:, :2]\n",
    "\n",
    "for i in df3:\n",
    "    if i in skip:\n",
    "        continue\n",
    "    sns.boxplot(data = df3, y = i, x = \"Cluster_KM\")\n",
    "    plt.title(\"{} distribution per cluster\".format(i))\n",
    "    plt.show()"
   ]
  },
  {
   "cell_type": "markdown",
   "id": "7a0d5cce",
   "metadata": {},
   "source": [
    "**Se concluye:**  \n",
    "**Cluster 0:**\n",
    "* Num_Reactions: 2500 aprox.\n",
    "* Predominant reactions: comments, shares, loves, \n",
    "* Status_type: video\n",
    "* Year: 2016 to 2018\n",
    "* Month: mean= June, from May to September\n",
    "* Days: mean=12\n",
    "* Hour: mostly from 7 to 11 hrs\n",
    "* Day of the week: mean= Wednesday \n",
    "\n",
    "**Cluster 1:**\n",
    "* Num_Reactions: 5000 aprox.\n",
    "* Predominant reactions: likes, sads, angrys,\n",
    "* Status_type: link, photo, status,\n",
    "* Year: 2012 to 2018\n",
    "* Month: mean= June, from April to October \n",
    "* Days: mean=15\n",
    "* Hour: mostly from 0 to 19 hrs\n",
    "* Day of the week: mean= Wednesday  \n",
    "\n",
    "**Cluster 2:** \n",
    "* Num_Reactions: 2500 aprox.\n",
    "* Predominant reactions: loves, wows, hahas,\n",
    "* Status_type: video, \n",
    "* Year: 2016 to 2018\n",
    "* Month: mean= June, from May to October \n",
    "* Days: mean=15\n",
    "* Hour: mostly from 3 to 12 hrs\n",
    "* Day of the week: mean= Wednesday  \n",
    "\n",
    "**Cluster 3:** \n",
    "* Num_Reactions: 4000 aprox.\n",
    "* Predominant reactions: likes, \n",
    "* Status_type: status, video\n",
    "* Year: 2015 to 2018\n",
    "* Month: mean= May, from March to November\n",
    "* Days: mean=14\n",
    "* Hour: mostly from 0 to 14 hrs\n",
    "* Day of the week: mean= Wednesday\n",
    "\n"
   ]
  },
  {
   "cell_type": "markdown",
   "id": "7ee0b7b9",
   "metadata": {},
   "source": [
    "**4.2. HIERARCHICAL CLUSTERING:**"
   ]
  },
  {
   "cell_type": "markdown",
   "id": "724a3ab7",
   "metadata": {},
   "source": [
    "A pesar de ya conocer el número de clusters, dibujaremos un dendograma para que nos ayude a decidir."
   ]
  },
  {
   "cell_type": "code",
   "execution_count": 41,
   "id": "83b5fd07",
   "metadata": {},
   "outputs": [
    {
     "data": {
      "image/png": "[encoded data removed]",
      "text/plain": [
       "<Figure size 1152x504 with 1 Axes>"
      ]
     },
     "metadata": {
      "needs_background": "light"
     },
     "output_type": "display_data"
    }
   ],
   "source": [
    "plt.figure(figsize = (16, 7))  \n",
    "plt.title(\"Dendrogram\")  \n",
    "shc.dendrogram(shc.linkage(pca_df, method = \"ward\"))\n",
    "plt.show()"
   ]
  },
  {
   "cell_type": "markdown",
   "id": "113ad871",
   "metadata": {},
   "source": [
    "* **La línea vertical con máxima distancia es la línea <span style=color:blue><b>azul</b></span>  , con lo cual se definen 2 clusters (naranja y verde); a diferencia del K-means que recomienda 4. A pesar, de existir variación/ disperción horizontal se plantea utilizar 2 clusters.**"
   ]
  },
  {
   "cell_type": "code",
   "execution_count": 42,
   "id": "b4fe1fcc",
   "metadata": {},
   "outputs": [
    {
     "data": {
      "image/png": "[encoded data removed]",
      "text/plain": [
       "<Figure size 1152x504 with 1 Axes>"
      ]
     },
     "metadata": {
      "needs_background": "light"
     },
     "output_type": "display_data"
    }
   ],
   "source": [
    "plt.figure(figsize = (16, 7))  \n",
    "plt.title(\"Dendrogram\")  \n",
    "shc.dendrogram(shc.linkage(pca_df, method = \"ward\"))\n",
    "plt.axhline(y=2500, color='r', linestyle='--')\n",
    "plt.show()"
   ]
  },
  {
   "cell_type": "code",
   "execution_count": 43,
   "id": "4954507d",
   "metadata": {
    "scrolled": true
   },
   "outputs": [
    {
     "data": {
      "text/plain": [
       "array([1, 1, 1, ..., 1, 1, 1], dtype=int64)"
      ]
     },
     "execution_count": 43,
     "metadata": {},
     "output_type": "execute_result"
    }
   ],
   "source": [
    "agglo = AgglomerativeClustering(n_clusters = 2, affinity = \"euclidean\", linkage = \"ward\")  \n",
    "agglo.fit_predict(pca_df)"
   ]
  },
  {
   "cell_type": "markdown",
   "id": "811b0380",
   "metadata": {},
   "source": [
    "**4.2.1. PREDICTION**"
   ]
  },
  {
   "cell_type": "code",
   "execution_count": 44,
   "id": "c216eb86",
   "metadata": {},
   "outputs": [
    {
     "data": {
      "text/html": [
       "<div>\n",
       "<style scoped>\n",
       "    .dataframe tbody tr th:only-of-type {\n",
       "        vertical-align: middle;\n",
       "    }\n",
       "\n",
       "    .dataframe tbody tr th {\n",
       "        vertical-align: top;\n",
       "    }\n",
       "\n",
       "    .dataframe thead th {\n",
       "        text-align: right;\n",
       "    }\n",
       "</style>\n",
       "<table border=\"1\" class=\"dataframe\">\n",
       "  <thead>\n",
       "    <tr style=\"text-align: right;\">\n",
       "      <th></th>\n",
       "      <th>num_reactions</th>\n",
       "      <th>num_comments</th>\n",
       "      <th>num_shares</th>\n",
       "      <th>num_likes</th>\n",
       "      <th>num_loves</th>\n",
       "      <th>num_wows</th>\n",
       "      <th>num_hahas</th>\n",
       "      <th>num_sads</th>\n",
       "      <th>num_angrys</th>\n",
       "      <th>type_link</th>\n",
       "      <th>...</th>\n",
       "      <th>type_status</th>\n",
       "      <th>type_video</th>\n",
       "      <th>year</th>\n",
       "      <th>month</th>\n",
       "      <th>day</th>\n",
       "      <th>hour</th>\n",
       "      <th>minute</th>\n",
       "      <th>dayofweek</th>\n",
       "      <th>Cluster_KM</th>\n",
       "      <th>Cluster_HC</th>\n",
       "    </tr>\n",
       "  </thead>\n",
       "  <tbody>\n",
       "    <tr>\n",
       "      <th>0</th>\n",
       "      <td>2.366834</td>\n",
       "      <td>23.090909</td>\n",
       "      <td>65.50</td>\n",
       "      <td>2.272727</td>\n",
       "      <td>30.666667</td>\n",
       "      <td>3.0</td>\n",
       "      <td>1.0</td>\n",
       "      <td>1.0</td>\n",
       "      <td>0.0</td>\n",
       "      <td>0.0</td>\n",
       "      <td>...</td>\n",
       "      <td>0.0</td>\n",
       "      <td>1.0</td>\n",
       "      <td>0.5</td>\n",
       "      <td>0.272727</td>\n",
       "      <td>0.700000</td>\n",
       "      <td>-0.142857</td>\n",
       "      <td>0.000000</td>\n",
       "      <td>1.000000</td>\n",
       "      <td>3</td>\n",
       "      <td>1</td>\n",
       "    </tr>\n",
       "    <tr>\n",
       "      <th>1</th>\n",
       "      <td>0.462312</td>\n",
       "      <td>-0.181818</td>\n",
       "      <td>0.00</td>\n",
       "      <td>0.563636</td>\n",
       "      <td>0.000000</td>\n",
       "      <td>0.0</td>\n",
       "      <td>0.0</td>\n",
       "      <td>0.0</td>\n",
       "      <td>0.0</td>\n",
       "      <td>0.0</td>\n",
       "      <td>...</td>\n",
       "      <td>0.0</td>\n",
       "      <td>0.0</td>\n",
       "      <td>0.5</td>\n",
       "      <td>0.272727</td>\n",
       "      <td>0.666667</td>\n",
       "      <td>2.142857</td>\n",
       "      <td>0.762712</td>\n",
       "      <td>0.833333</td>\n",
       "      <td>1</td>\n",
       "      <td>1</td>\n",
       "    </tr>\n",
       "    <tr>\n",
       "      <th>2</th>\n",
       "      <td>0.849246</td>\n",
       "      <td>10.545455</td>\n",
       "      <td>14.25</td>\n",
       "      <td>0.890909</td>\n",
       "      <td>7.000000</td>\n",
       "      <td>1.0</td>\n",
       "      <td>1.0</td>\n",
       "      <td>0.0</td>\n",
       "      <td>0.0</td>\n",
       "      <td>0.0</td>\n",
       "      <td>...</td>\n",
       "      <td>0.0</td>\n",
       "      <td>1.0</td>\n",
       "      <td>0.5</td>\n",
       "      <td>0.272727</td>\n",
       "      <td>0.666667</td>\n",
       "      <td>-0.142857</td>\n",
       "      <td>0.288136</td>\n",
       "      <td>0.833333</td>\n",
       "      <td>1</td>\n",
       "      <td>1</td>\n",
       "    </tr>\n",
       "    <tr>\n",
       "      <th>3</th>\n",
       "      <td>0.266332</td>\n",
       "      <td>-0.181818</td>\n",
       "      <td>0.00</td>\n",
       "      <td>0.327273</td>\n",
       "      <td>0.000000</td>\n",
       "      <td>0.0</td>\n",
       "      <td>0.0</td>\n",
       "      <td>0.0</td>\n",
       "      <td>0.0</td>\n",
       "      <td>0.0</td>\n",
       "      <td>...</td>\n",
       "      <td>0.0</td>\n",
       "      <td>0.0</td>\n",
       "      <td>0.5</td>\n",
       "      <td>0.272727</td>\n",
       "      <td>0.666667</td>\n",
       "      <td>-0.714286</td>\n",
       "      <td>0.491525</td>\n",
       "      <td>0.833333</td>\n",
       "      <td>1</td>\n",
       "      <td>1</td>\n",
       "    </tr>\n",
       "    <tr>\n",
       "      <th>4</th>\n",
       "      <td>0.778894</td>\n",
       "      <td>-0.181818</td>\n",
       "      <td>0.00</td>\n",
       "      <td>0.890909</td>\n",
       "      <td>3.000000</td>\n",
       "      <td>0.0</td>\n",
       "      <td>0.0</td>\n",
       "      <td>0.0</td>\n",
       "      <td>0.0</td>\n",
       "      <td>0.0</td>\n",
       "      <td>...</td>\n",
       "      <td>0.0</td>\n",
       "      <td>0.0</td>\n",
       "      <td>0.5</td>\n",
       "      <td>0.272727</td>\n",
       "      <td>0.566667</td>\n",
       "      <td>-0.571429</td>\n",
       "      <td>0.372881</td>\n",
       "      <td>0.333333</td>\n",
       "      <td>1</td>\n",
       "      <td>1</td>\n",
       "    </tr>\n",
       "  </tbody>\n",
       "</table>\n",
       "<p>5 rows × 21 columns</p>\n",
       "</div>"
      ],
      "text/plain": [
       "   num_reactions  num_comments  num_shares  num_likes  num_loves  num_wows  \\\n",
       "0       2.366834     23.090909       65.50   2.272727  30.666667       3.0   \n",
       "1       0.462312     -0.181818        0.00   0.563636   0.000000       0.0   \n",
       "2       0.849246     10.545455       14.25   0.890909   7.000000       1.0   \n",
       "3       0.266332     -0.181818        0.00   0.327273   0.000000       0.0   \n",
       "4       0.778894     -0.181818        0.00   0.890909   3.000000       0.0   \n",
       "\n",
       "   num_hahas  num_sads  num_angrys  type_link  ...  type_status  type_video  \\\n",
       "0        1.0       1.0         0.0        0.0  ...          0.0         1.0   \n",
       "1        0.0       0.0         0.0        0.0  ...          0.0         0.0   \n",
       "2        1.0       0.0         0.0        0.0  ...          0.0         1.0   \n",
       "3        0.0       0.0         0.0        0.0  ...          0.0         0.0   \n",
       "4        0.0       0.0         0.0        0.0  ...          0.0         0.0   \n",
       "\n",
       "   year     month       day      hour    minute  dayofweek  Cluster_KM  \\\n",
       "0   0.5  0.272727  0.700000 -0.142857  0.000000   1.000000           3   \n",
       "1   0.5  0.272727  0.666667  2.142857  0.762712   0.833333           1   \n",
       "2   0.5  0.272727  0.666667 -0.142857  0.288136   0.833333           1   \n",
       "3   0.5  0.272727  0.666667 -0.714286  0.491525   0.833333           1   \n",
       "4   0.5  0.272727  0.566667 -0.571429  0.372881   0.333333           1   \n",
       "\n",
       "   Cluster_HC  \n",
       "0           1  \n",
       "1           1  \n",
       "2           1  \n",
       "3           1  \n",
       "4           1  \n",
       "\n",
       "[5 rows x 21 columns]"
      ]
     },
     "execution_count": 44,
     "metadata": {},
     "output_type": "execute_result"
    }
   ],
   "source": [
    "data['Cluster_HC'] = agglo.labels_\n",
    "data.head()"
   ]
  },
  {
   "cell_type": "markdown",
   "id": "bb7f5aba",
   "metadata": {},
   "source": [
    "**4.1.2. VISUALIZATIONS:**"
   ]
  },
  {
   "cell_type": "code",
   "execution_count": 45,
   "id": "e4ce70e6",
   "metadata": {},
   "outputs": [
    {
     "data": {
      "text/plain": [
       "1    6727\n",
       "0     270\n",
       "Name: Cluster_HC, dtype: int64"
      ]
     },
     "execution_count": 45,
     "metadata": {},
     "output_type": "execute_result"
    }
   ],
   "source": [
    "data.Cluster_HC.value_counts()"
   ]
  },
  {
   "cell_type": "code",
   "execution_count": 46,
   "id": "b8710f90",
   "metadata": {},
   "outputs": [
    {
     "data": {
      "text/plain": [
       "<AxesSubplot:xlabel='Cluster_HC', ylabel='count'>"
      ]
     },
     "execution_count": 46,
     "metadata": {},
     "output_type": "execute_result"
    },
    {
     "data": {
      "image/png": "[encoded data removed]",
      "text/plain": [
       "<Figure size 432x288 with 1 Axes>"
      ]
     },
     "metadata": {
      "needs_background": "light"
     },
     "output_type": "display_data"
    }
   ],
   "source": [
    "sns.countplot(x = data.Cluster_HC)"
   ]
  },
  {
   "cell_type": "code",
   "execution_count": 47,
   "id": "0dd95a13",
   "metadata": {},
   "outputs": [
    {
     "data": {
      "text/html": [
       "<div>\n",
       "<style scoped>\n",
       "    .dataframe tbody tr th:only-of-type {\n",
       "        vertical-align: middle;\n",
       "    }\n",
       "\n",
       "    .dataframe tbody tr th {\n",
       "        vertical-align: top;\n",
       "    }\n",
       "\n",
       "    .dataframe thead th {\n",
       "        text-align: right;\n",
       "    }\n",
       "</style>\n",
       "<table border=\"1\" class=\"dataframe\">\n",
       "  <thead>\n",
       "    <tr style=\"text-align: right;\">\n",
       "      <th></th>\n",
       "      <th>pca1</th>\n",
       "      <th>Cluster_KM</th>\n",
       "      <th>Cluster_HC</th>\n",
       "    </tr>\n",
       "  </thead>\n",
       "  <tbody>\n",
       "    <tr>\n",
       "      <th>0</th>\n",
       "      <td>48.144924</td>\n",
       "      <td>3</td>\n",
       "      <td>1</td>\n",
       "    </tr>\n",
       "    <tr>\n",
       "      <th>1</th>\n",
       "      <td>-14.878488</td>\n",
       "      <td>1</td>\n",
       "      <td>1</td>\n",
       "    </tr>\n",
       "    <tr>\n",
       "      <th>2</th>\n",
       "      <td>3.374854</td>\n",
       "      <td>1</td>\n",
       "      <td>1</td>\n",
       "    </tr>\n",
       "    <tr>\n",
       "      <th>3</th>\n",
       "      <td>-14.881207</td>\n",
       "      <td>1</td>\n",
       "      <td>1</td>\n",
       "    </tr>\n",
       "    <tr>\n",
       "      <th>4</th>\n",
       "      <td>-14.271414</td>\n",
       "      <td>1</td>\n",
       "      <td>1</td>\n",
       "    </tr>\n",
       "  </tbody>\n",
       "</table>\n",
       "</div>"
      ],
      "text/plain": [
       "        pca1  Cluster_KM  Cluster_HC\n",
       "0  48.144924           3           1\n",
       "1 -14.878488           1           1\n",
       "2   3.374854           1           1\n",
       "3 -14.881207           1           1\n",
       "4 -14.271414           1           1"
      ]
     },
     "execution_count": 47,
     "metadata": {},
     "output_type": "execute_result"
    }
   ],
   "source": [
    "agglo_df = pca_df\n",
    "agglo_df['Cluster_HC'] = agglo.labels_\n",
    "agglo_df.head()"
   ]
  },
  {
   "cell_type": "code",
   "execution_count": 48,
   "id": "c4de0bfe",
   "metadata": {},
   "outputs": [
    {
     "data": {
      "text/plain": [
       "<AxesSubplot:xlabel='Cluster_HC', ylabel='pca1'>"
      ]
     },
     "execution_count": 48,
     "metadata": {},
     "output_type": "execute_result"
    },
    {
     "data": {
      "image/png": "[encoded data removed]",
      "text/plain": [
       "<Figure size 432x288 with 1 Axes>"
      ]
     },
     "metadata": {
      "needs_background": "light"
     },
     "output_type": "display_data"
    }
   ],
   "source": [
    "sns.boxplot(x='Cluster_HC', y=\"pca1\", data=agglo_df)"
   ]
  },
  {
   "cell_type": "code",
   "execution_count": 55,
   "id": "0741229a",
   "metadata": {},
   "outputs": [
    {
     "data": {
      "text/plain": [
       "<matplotlib.legend.Legend at 0x22fee4ab4c0>"
      ]
     },
     "execution_count": 55,
     "metadata": {},
     "output_type": "execute_result"
    },
    {
     "data": {
      "image/png": "[encoded data removed]",
      "text/plain": [
       "<Figure size 432x288 with 1 Axes>"
      ]
     },
     "metadata": {
      "needs_background": "light"
     },
     "output_type": "display_data"
    }
   ],
   "source": [
    "plt.hist(agglo_df.Cluster_KM, label='K-means', alpha=.7, edgecolor='red') \n",
    "plt.hist(agglo_df.Cluster_HC, label='Hierarchical Clustering', alpha=0.9, edgecolor='yellow') \n",
    "plt.legend() "
   ]
  },
  {
   "cell_type": "code",
   "execution_count": 83,
   "id": "b93a2a44",
   "metadata": {},
   "outputs": [
    {
     "data": {
      "text/plain": [
       "<AxesSubplot:xlabel='Cluster_HC', ylabel='Cluster_KM'>"
      ]
     },
     "execution_count": 83,
     "metadata": {},
     "output_type": "execute_result"
    },
    {
     "data": {
      "image/png": "[encoded data removed]",
      "text/plain": [
       "<Figure size 432x288 with 1 Axes>"
      ]
     },
     "metadata": {
      "needs_background": "light"
     },
     "output_type": "display_data"
    }
   ],
   "source": [
    "sns.scatterplot(data=agglo_df, x=\"Cluster_HC\", y=\"Cluster_KM\", size= \"Cluster_KM\", legend=False)"
   ]
  },
  {
   "cell_type": "markdown",
   "id": "c5fa16fb",
   "metadata": {},
   "source": [
    "**Se concluye:**  \n",
    "* En el modelo de K-means tenemos 4 clusters (0,1,2,3), mientras que en el modelo de Hierarchical Clustering apenas clasificamos en 2 clusters (0,1). Anteriormente, se describieron las características de cada cluster y según las gráfica de arriba, se observa que el **Cluster 0** agrupa las características (0,2,3) y el **Cluster 1** las del (1,3), por lo que se sobrepone pocos puntos del cluster 3 creado con k-means."
   ]
  },
  {
   "cell_type": "markdown",
   "id": "8c42ec79",
   "metadata": {},
   "source": [
    "**6. EVALUATE**"
   ]
  },
  {
   "cell_type": "code",
   "execution_count": 57,
   "id": "72d537c8",
   "metadata": {},
   "outputs": [],
   "source": [
    "# Compute the silhouette scores for each algorithm\n",
    "kmeans_silhouette = silhouette_score(pca_components, y_pred)\n",
    "agglo_silhouette = silhouette_score(pca_components, agglo.labels_)"
   ]
  },
  {
   "cell_type": "code",
   "execution_count": 58,
   "id": "944741c1",
   "metadata": {},
   "outputs": [
    {
     "data": {
      "text/plain": [
       "0.89214"
      ]
     },
     "execution_count": 58,
     "metadata": {},
     "output_type": "execute_result"
    }
   ],
   "source": [
    "kmeans_silhouette.round(5)"
   ]
  },
  {
   "cell_type": "code",
   "execution_count": 59,
   "id": "34aabfb3",
   "metadata": {},
   "outputs": [
    {
     "data": {
      "text/plain": [
       "0.91364"
      ]
     },
     "execution_count": 59,
     "metadata": {},
     "output_type": "execute_result"
    }
   ],
   "source": [
    "agglo_silhouette.round(5)"
   ]
  },
  {
   "cell_type": "markdown",
   "id": "1174c825",
   "metadata": {},
   "source": [
    "* En los resultados de evaluación, ambos algoritmos presentan valores muy similares, incluso los resultados obtenidos con apenas 2 clusters (Hierarchical model) son un poco mejores que con 4 (k-means), esto se debe a la dispersión que presentan los datos e incluso nos hace pensar que pueden existir algunas anomalias en la toma de datos (un ejemplo claro es la diferencia de años donde el cluster con mayores datos tiene registros desde el 2012)."
   ]
  },
  {
   "cell_type": "code",
   "execution_count": null,
   "id": "78d16691",
   "metadata": {},
   "outputs": [],
   "source": []
  }
 ],
 "metadata": {
  "kernelspec": {
   "display_name": "Python 3 (ipykernel)",
   "language": "python",
   "name": "python3"
  },
  "language_info": {
   "codemirror_mode": {
    "name": "ipython",
    "version": 3
   },
   "file_extension": ".py",
   "mimetype": "text/x-python",
   "name": "python",
   "nbconvert_exporter": "python",
   "pygments_lexer": "ipython3",
   "version": "3.9.7"
  }
 },
 "nbformat": 4,
 "nbformat_minor": 5
}
